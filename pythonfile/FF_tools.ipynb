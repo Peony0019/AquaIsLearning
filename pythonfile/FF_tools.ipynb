{
 "cells": [
  {
   "cell_type": "code",
   "execution_count": 1,
   "metadata": {},
   "outputs": [],
   "source": [
    "import pandas as pd\n",
    "import numpy as np"
   ]
  },
  {
   "cell_type": "code",
   "execution_count": 2,
   "metadata": {},
   "outputs": [],
   "source": [
    "from typing import Optional\n",
    "from scipy.optimize import fsolve\n",
    "\n",
    "def a(n: int, i: float, end: bool=True) -> float:\n",
    "    act = (1 - (1 + i)**(-n)) / (1 - (1 + i)**(-1))\n",
    "    if end:\n",
    "        act = act *  (1 + i) ** (-1)\n",
    "    return act\n",
    "\n",
    "def s(n: int, i: float, g: float=0.0, end: bool=True) -> float:\n",
    "    act = a(n, (1 + i)/(1 + g) - 1, end)\n",
    "    act = act * (1 + i) ** n\n",
    "    return act"
   ]
  },
  {
   "cell_type": "code",
   "execution_count": 3,
   "metadata": {},
   "outputs": [
    {
     "data": {
      "text/plain": [
       "array([0.03019365])"
      ]
     },
     "execution_count": 3,
     "metadata": {},
     "output_type": "execute_result"
    }
   ],
   "source": [
    "def func(x):\n",
    "    return 47.5 * (1 + x)**(-7) + 34.5 * (1 + x)**(-13) + 25 * (1 + x)**(-22) - 75\n",
    "\n",
    "fsolve(func, 0.0)"
   ]
  },
  {
   "cell_type": "code",
   "execution_count": 13,
   "metadata": {},
   "outputs": [
    {
     "name": "stderr",
     "output_type": "stream",
     "text": [
      "/tmp/ipykernel_143936/1145439420.py:4: RuntimeWarning: The iteration is not making good progress, as measured by the \n",
      "  improvement from the last ten iterations.\n",
      "  fsolve(func, 0.0)\n"
     ]
    },
    {
     "data": {
      "text/plain": [
       "array([45488.06384378])"
      ]
     },
     "execution_count": 13,
     "metadata": {},
     "output_type": "execute_result"
    }
   ],
   "source": [
    "def func(x):\n",
    "    return x * s(10, 0.08) + 90000 * 1.08 ** 10 - 50000 * 1.04 ** 10 * a(25, 0.08, False)\n",
    "\n",
    "fsolve(func, 0.0)"
   ]
  }
 ],
 "metadata": {
  "kernelspec": {
   "display_name": "Python 3",
   "language": "python",
   "name": "python3"
  },
  "language_info": {
   "codemirror_mode": {
    "name": "ipython",
    "version": 3
   },
   "file_extension": ".py",
   "mimetype": "text/x-python",
   "name": "python",
   "nbconvert_exporter": "python",
   "pygments_lexer": "ipython3",
   "version": "3.10.6"
  }
 },
 "nbformat": 4,
 "nbformat_minor": 2
}
