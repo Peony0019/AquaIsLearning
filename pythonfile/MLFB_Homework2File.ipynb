{
 "cells": [
  {
   "cell_type": "code",
   "execution_count": 3,
   "metadata": {},
   "outputs": [],
   "source": [
    "import os, sys\n",
    "import pandas as pd\n",
    "import numpy as np\n",
    "import math"
   ]
  },
  {
   "cell_type": "markdown",
   "metadata": {},
   "source": [
    "# Question 1"
   ]
  },
  {
   "cell_type": "code",
   "execution_count": 93,
   "metadata": {},
   "outputs": [
    {
     "data": {
      "text/plain": [
       "8"
      ]
     },
     "metadata": {},
     "output_type": "display_data"
    },
    {
     "data": {
      "text/plain": [
       "array([[ 1.68296787e-16, -3.34927541e-17,  1.22609929e-17,\n",
       "         8.22192192e-01, -2.21084180e-17, -1.60598107e-17,\n",
       "         2.01598171e-18,  1.36688816e-17],\n",
       "       [-2.34159059e-16,  2.20183971e-17, -5.71279462e-17,\n",
       "         8.22192192e-01, -8.23063018e-18,  6.02680222e-17,\n",
       "        -1.18618061e-17, -2.08906189e-19],\n",
       "       [-1.88760368e-01, -3.65605617e-01,  6.81507194e-01,\n",
       "        -2.05548048e-01, -4.43268940e-02, -2.93800515e-01,\n",
       "         1.46875823e-02, -1.91051457e-01],\n",
       "       [-1.88760368e-01, -3.65605617e-01,  6.81507194e-01,\n",
       "        -2.05548048e-01,  4.43268940e-02,  2.93800515e-01,\n",
       "        -1.46875823e-02,  1.91051457e-01],\n",
       "       [-5.13335854e-01, -2.16881750e-01, -5.68505592e-01,\n",
       "        -2.05548048e-01,  3.15357038e-01, -5.84037250e-02,\n",
       "         1.46155842e-01,  2.78821346e-02],\n",
       "       [-5.13335854e-01, -2.16881750e-01, -5.68505592e-01,\n",
       "        -2.05548048e-01, -3.15357038e-01,  5.84037250e-02,\n",
       "        -1.46155842e-01, -2.78821346e-02],\n",
       "       [-3.58538618e-02,  7.88561023e-01,  1.03131049e-01,\n",
       "        -2.05548048e-01,  1.53060537e-01,  5.00885143e-02,\n",
       "        -2.84596895e-01, -1.34418079e-01],\n",
       "       [-3.58538618e-02,  7.88561023e-01,  1.03131049e-01,\n",
       "        -2.05548048e-01, -1.53060537e-01, -5.00885143e-02,\n",
       "         2.84596895e-01,  1.34418079e-01],\n",
       "       [ 7.37950083e-01, -2.06073656e-01, -2.16132652e-01,\n",
       "        -2.05548048e-01, -1.25513781e-02,  1.81001114e-01,\n",
       "         1.49757644e-01, -2.63919889e-01],\n",
       "       [ 7.37950083e-01, -2.06073656e-01, -2.16132652e-01,\n",
       "        -2.05548048e-01,  1.25513781e-02, -1.81001114e-01,\n",
       "        -1.49757644e-01,  2.63919889e-01]])"
      ]
     },
     "metadata": {},
     "output_type": "display_data"
    }
   ],
   "source": [
    "sigma = np.array([[1.0, 0.5, 0.1, 0.1, 0.1, 0.1, 0.1, 0.1, 0.1, 0.1], \n",
    "                  [0.5, 1.0, 0.1, 0.1, 0.1, 0.1, 0.1, 0.1, 0.1, 0.1],\n",
    "                  [0.1, 0.1, 1.0, 0.5, 0.1, 0.1, 0.1, 0.1, 0.1, 0.1], \n",
    "                  [0.1, 0.1, 0.5, 1.0, 0.1, 0.1, 0.1, 0.1, 0.1, 0.1],\n",
    "                  [0.1, 0.1, 0.1, 0.1, 1.0, 0.5, 0.1, 0.1, 0.1, 0.1], \n",
    "                  [0.1, 0.1, 0.1, 0.1, 0.5, 1.0, 0.1, 0.1, 0.1, 0.1],\n",
    "                  [0.1, 0.1, 0.1, 0.1, 0.1, 0.1, 1.0, 0.5, 0.1, 0.1], \n",
    "                  [0.1, 0.1, 0.1, 0.1, 0.1, 0.1, 0.5, 1.0, 0.1, 0.1],\n",
    "                  [0.1, 0.1, 0.1, 0.1, 0.1, 0.1, 0.1, 0.1, 1.0, 0.5], \n",
    "                  [0.1, 0.1, 0.1, 0.1, 0.1, 0.1, 0.1, 0.1, 0.5, 1.0]])\n",
    "\n",
    "from sklearn.decomposition import PCA\n",
    "\n",
    "pca = PCA(n_components=0.95).fit(sigma)\n",
    "display(pca.n_components_)\n",
    "display(pca.transform(sigma))\n",
    "\n",
    "# (a)"
   ]
  },
  {
   "cell_type": "code",
   "execution_count": 128,
   "metadata": {},
   "outputs": [
    {
     "name": "stdout",
     "output_type": "stream",
     "text": [
      "Number of Factor: 2\n"
     ]
    },
    {
     "data": {
      "text/plain": [
       "array([[1.        , 0.12195687, 0.15652713, 0.15652713, 0.15653111,\n",
       "        0.15653112, 0.12195687, 0.12195687, 0.12195687, 0.12195687],\n",
       "       [0.12195687, 1.        , 0.15652713, 0.15652713, 0.15653111,\n",
       "        0.15653112, 0.12195687, 0.12195687, 0.12195687, 0.12195687],\n",
       "       [0.15652713, 0.15652713, 1.        , 0.36787594, 0.03393452,\n",
       "        0.03393452, 0.15652713, 0.15652713, 0.15652713, 0.15652713],\n",
       "       [0.15652713, 0.15652713, 0.36787594, 1.        , 0.03393452,\n",
       "        0.03393451, 0.15652713, 0.15652713, 0.15652713, 0.15652713],\n",
       "       [0.15653111, 0.15653111, 0.03393452, 0.03393452, 1.        ,\n",
       "        0.36786263, 0.15653111, 0.15653111, 0.15653111, 0.15653111],\n",
       "       [0.15653112, 0.15653112, 0.03393452, 0.03393451, 0.36786263,\n",
       "        1.        , 0.15653112, 0.15653112, 0.15653111, 0.15653112],\n",
       "       [0.12195687, 0.12195687, 0.15652713, 0.15652713, 0.15653111,\n",
       "        0.15653112, 1.        , 0.12195687, 0.12195686, 0.12195687],\n",
       "       [0.12195687, 0.12195687, 0.15652713, 0.15652713, 0.15653111,\n",
       "        0.15653112, 0.12195687, 1.        , 0.12195686, 0.12195687],\n",
       "       [0.12195687, 0.12195687, 0.15652713, 0.15652713, 0.15653111,\n",
       "        0.15653111, 0.12195686, 0.12195686, 1.        , 0.12195687],\n",
       "       [0.12195687, 0.12195687, 0.15652713, 0.15652713, 0.15653111,\n",
       "        0.15653112, 0.12195687, 0.12195687, 0.12195687, 1.        ]])"
      ]
     },
     "metadata": {},
     "output_type": "display_data"
    },
    {
     "name": "stdout",
     "output_type": "stream",
     "text": [
      "Number of Factor: 3\n"
     ]
    },
    {
     "name": "stderr",
     "output_type": "stream",
     "text": [
      "/usr/local/lib/python3.10/dist-packages/factor_analyzer/factor_analyzer.py:574: UserWarning: Failed to converge: ABNORMAL_TERMINATION_IN_LNSRCH\n",
      "  warnings.warn(f\"Failed to converge: {res.message}\")\n"
     ]
    },
    {
     "data": {
      "text/plain": [
       "array([[1.        , 0.3799505 , 0.1       , 0.1       , 0.1       ,\n",
       "        0.1       , 0.1       , 0.1       , 0.1       , 0.1       ],\n",
       "       [0.3799505 , 1.        , 0.1       , 0.1       , 0.1       ,\n",
       "        0.1       , 0.1       , 0.1       , 0.1       , 0.1       ],\n",
       "       [0.1       , 0.1       , 1.        , 0.26033186, 0.22349285,\n",
       "        0.22349285, 0.05378712, 0.05378712, 0.14233866, 0.14233866],\n",
       "       [0.1       , 0.1       , 0.26033186, 1.        , 0.22349285,\n",
       "        0.22349285, 0.05378712, 0.05378712, 0.14233866, 0.14233866],\n",
       "       [0.1       , 0.1       , 0.22349285, 0.22349285, 1.        ,\n",
       "        0.20167542, 0.10116934, 0.10116934, 0.15361288, 0.15361288],\n",
       "       [0.1       , 0.1       , 0.22349285, 0.22349285, 0.20167542,\n",
       "        1.        , 0.10116934, 0.10116934, 0.15361288, 0.15361288],\n",
       "       [0.1       , 0.1       , 0.05378712, 0.05378712, 0.10116934,\n",
       "        0.10116934, 1.        , 0.3194444 , 0.20554964, 0.20554964],\n",
       "       [0.1       , 0.1       , 0.05378712, 0.05378712, 0.10116934,\n",
       "        0.10116934, 0.3194444 , 1.        , 0.20554964, 0.20554964],\n",
       "       [0.1       , 0.1       , 0.14233866, 0.14233866, 0.15361288,\n",
       "        0.15361288, 0.20554964, 0.20554964, 1.        , 0.17844931],\n",
       "       [0.1       , 0.1       , 0.14233866, 0.14233866, 0.15361288,\n",
       "        0.15361288, 0.20554964, 0.20554964, 0.17844931, 1.        ]])"
      ]
     },
     "metadata": {},
     "output_type": "display_data"
    },
    {
     "name": "stdout",
     "output_type": "stream",
     "text": [
      "Number of Factor: 4\n"
     ]
    },
    {
     "name": "stderr",
     "output_type": "stream",
     "text": [
      "/usr/local/lib/python3.10/dist-packages/factor_analyzer/factor_analyzer.py:574: UserWarning: Failed to converge: ABNORMAL_TERMINATION_IN_LNSRCH\n",
      "  warnings.warn(f\"Failed to converge: {res.message}\")\n"
     ]
    },
    {
     "data": {
      "text/plain": [
       "array([[1.        , 0.3799505 , 0.1       , 0.1       , 0.1       ,\n",
       "        0.1       , 0.1       , 0.1       , 0.1       , 0.1       ],\n",
       "       [0.3799505 , 1.        , 0.1       , 0.1       , 0.1       ,\n",
       "        0.1       , 0.1       , 0.1       , 0.1       , 0.1       ],\n",
       "       [0.1       , 0.1       , 1.        , 0.26641236, 0.20009565,\n",
       "        0.20009565, 0.04044659, 0.04044659, 0.17299591, 0.17299591],\n",
       "       [0.1       , 0.1       , 0.26641236, 1.        , 0.20009565,\n",
       "        0.20009565, 0.04044659, 0.04044659, 0.17299591, 0.17299591],\n",
       "       [0.1       , 0.1       , 0.20009565, 0.20009565, 1.        ,\n",
       "        0.2917058 , 0.15250251, 0.15250251, 0.03564654, 0.03564654],\n",
       "       [0.1       , 0.1       , 0.20009565, 0.20009565, 0.2917058 ,\n",
       "        1.        , 0.15250251, 0.15250251, 0.03564654, 0.03564654],\n",
       "       [0.1       , 0.1       , 0.04044659, 0.04044659, 0.15250251,\n",
       "        0.15250251, 1.        , 0.34871334, 0.13828806, 0.13828806],\n",
       "       [0.1       , 0.1       , 0.04044659, 0.04044659, 0.15250251,\n",
       "        0.15250251, 0.34871334, 1.        , 0.13828806, 0.13828806],\n",
       "       [0.1       , 0.1       , 0.17299591, 0.17299591, 0.03564654,\n",
       "        0.03564654, 0.13828806, 0.13828806, 1.        , 0.33301999],\n",
       "       [0.1       , 0.1       , 0.17299591, 0.17299591, 0.03564654,\n",
       "        0.03564654, 0.13828806, 0.13828806, 0.33301999, 1.        ]])"
      ]
     },
     "metadata": {},
     "output_type": "display_data"
    },
    {
     "name": "stdout",
     "output_type": "stream",
     "text": [
      "Number of Factor: 5\n"
     ]
    },
    {
     "data": {
      "text/plain": [
       "array([[1. , 0.5, 0.1, 0.1, 0.1, 0.1, 0.1, 0.1, 0.1, 0.1],\n",
       "       [0.5, 1. , 0.1, 0.1, 0.1, 0.1, 0.1, 0.1, 0.1, 0.1],\n",
       "       [0.1, 0.1, 1. , 0.5, 0.1, 0.1, 0.1, 0.1, 0.1, 0.1],\n",
       "       [0.1, 0.1, 0.5, 1. , 0.1, 0.1, 0.1, 0.1, 0.1, 0.1],\n",
       "       [0.1, 0.1, 0.1, 0.1, 1. , 0.5, 0.1, 0.1, 0.1, 0.1],\n",
       "       [0.1, 0.1, 0.1, 0.1, 0.5, 1. , 0.1, 0.1, 0.1, 0.1],\n",
       "       [0.1, 0.1, 0.1, 0.1, 0.1, 0.1, 1. , 0.5, 0.1, 0.1],\n",
       "       [0.1, 0.1, 0.1, 0.1, 0.1, 0.1, 0.5, 1. , 0.1, 0.1],\n",
       "       [0.1, 0.1, 0.1, 0.1, 0.1, 0.1, 0.1, 0.1, 1. , 0.5],\n",
       "       [0.1, 0.1, 0.1, 0.1, 0.1, 0.1, 0.1, 0.1, 0.5, 1. ]])"
      ]
     },
     "metadata": {},
     "output_type": "display_data"
    },
    {
     "name": "stdout",
     "output_type": "stream",
     "text": [
      "Number of Factor: 6\n"
     ]
    },
    {
     "data": {
      "text/plain": [
       "array([[1. , 0.5, 0.1, 0.1, 0.1, 0.1, 0.1, 0.1, 0.1, 0.1],\n",
       "       [0.5, 1. , 0.1, 0.1, 0.1, 0.1, 0.1, 0.1, 0.1, 0.1],\n",
       "       [0.1, 0.1, 1. , 0.5, 0.1, 0.1, 0.1, 0.1, 0.1, 0.1],\n",
       "       [0.1, 0.1, 0.5, 1. , 0.1, 0.1, 0.1, 0.1, 0.1, 0.1],\n",
       "       [0.1, 0.1, 0.1, 0.1, 1. , 0.5, 0.1, 0.1, 0.1, 0.1],\n",
       "       [0.1, 0.1, 0.1, 0.1, 0.5, 1. , 0.1, 0.1, 0.1, 0.1],\n",
       "       [0.1, 0.1, 0.1, 0.1, 0.1, 0.1, 1. , 0.5, 0.1, 0.1],\n",
       "       [0.1, 0.1, 0.1, 0.1, 0.1, 0.1, 0.5, 1. , 0.1, 0.1],\n",
       "       [0.1, 0.1, 0.1, 0.1, 0.1, 0.1, 0.1, 0.1, 1. , 0.5],\n",
       "       [0.1, 0.1, 0.1, 0.1, 0.1, 0.1, 0.1, 0.1, 0.5, 1. ]])"
      ]
     },
     "metadata": {},
     "output_type": "display_data"
    }
   ],
   "source": [
    "from factor_analyzer import FactorAnalyzer\n",
    "\n",
    "corr_df = pd.DataFrame(sigma, columns=list(range(10)), index=list(range(10)))\n",
    "\n",
    "for fac_num in range(2, 7):\n",
    "    fa = FactorAnalyzer(rotation=None, n_factors=fac_num, is_corr_matrix=True) \n",
    "    fa.fit(corr_df)\n",
    "    loadings = fa.loadings_\n",
    "    reconstructed_cov = np.dot(loadings, loadings.T)\n",
    "    for m in range(10):\n",
    "        reconstructed_cov[m][m] = 1\n",
    "    print(f\"Number of Factor: {fac_num}\")\n",
    "    display(reconstructed_cov)\n",
    "\n",
    "# (b)\n",
    "# It is a good choice to set number as 5 to represent the orginial correlation."
   ]
  },
  {
   "cell_type": "markdown",
   "metadata": {},
   "source": [
    "# Question 5"
   ]
  },
  {
   "cell_type": "code",
   "execution_count": 5,
   "metadata": {},
   "outputs": [
    {
     "name": "stdout",
     "output_type": "stream",
     "text": [
      "The Hart algorithm approximation of the CDF at x = 1.3 is 0.90320015509182\n"
     ]
    }
   ],
   "source": [
    "def hart_erfc(x):\n",
    "    '''\n",
    "    Coefficients for the rational approximation of erfc(x) on [0, 10].\n",
    "\n",
    "    In theory, approximate erfc(x) == e ** (-x**2) * P(x) / Q(x),\n",
    "    P(x) = Pnx**n + ... + P0, Q(x) = Qnx**n + ... + Q0.\n",
    "\n",
    "    Parameters are chosen from Hart Algorithm 5666.\n",
    "    '''\n",
    "\n",
    "    P = [\n",
    "        0.4404137358247522e+3,\n",
    "        0.6256865357696830e+3,\n",
    "        0.4483171695149408e+3,\n",
    "        0.1918400140559880e+3,\n",
    "        0.5099118408906474e+2,\n",
    "        0.7923986534563513e+1,\n",
    "        0.5641895835477551e+0\n",
    "    ]\n",
    "\n",
    "    Q = [\n",
    "        0.4404137358247522e+3,\n",
    "        0.1122640020930628e+4,\n",
    "        0.1274645794976473e+4,\n",
    "        0.8388618473515416e+3,\n",
    "        0.3471496128315532e+3,\n",
    "        0.9083719438196120e+2,\n",
    "        0.1405343415539281e+2,\n",
    "        1.0\n",
    "    ]\n",
    "    \n",
    "    num = 0\n",
    "    for i in range(len(P)-1, -1, -1):\n",
    "        num = num * x + P[i]\n",
    "\n",
    "    denom = 0\n",
    "    for i in range(len(Q)-1, -1, -1):\n",
    "        denom = denom * x + Q[i]\n",
    "\n",
    "    return math.exp(-x**2) * num / denom\n",
    "\n",
    "def hart_cdf(x, mean: float = 0., variance: float = 1.):\n",
    "    '''\n",
    "    Calculate the CDF using the relation CDF = 1 - 0.5 * erfc(x / sqrt(2))\n",
    "    '''\n",
    "    x = (x - mean) / math.sqrt(variance)\n",
    "    if x > 0:\n",
    "        return 1 - 0.5 * hart_erfc(x / math.sqrt(2))\n",
    "    else:\n",
    "        return 0.5 * hart_erfc(- x / math.sqrt(2))\n",
    "\n",
    "x_value = 1.3\n",
    "print(f\"The Hart algorithm approximation of the CDF at x = {x_value} is {hart_cdf(x_value)}\")\n",
    "\n",
    "# (a)"
   ]
  },
  {
   "cell_type": "code",
   "execution_count": 6,
   "metadata": {},
   "outputs": [
    {
     "data": {
      "text/plain": [
       "0.022750131948179195"
      ]
     },
     "execution_count": 6,
     "metadata": {},
     "output_type": "execute_result"
    }
   ],
   "source": [
    "import scipy\n",
    "import scipy.stats\n",
    "\n",
    "scipy.stats.norm.cdf(-2)"
   ]
  },
  {
   "cell_type": "code",
   "execution_count": 7,
   "metadata": {},
   "outputs": [
    {
     "name": "stdout",
     "output_type": "stream",
     "text": [
      "Phi(0, 0; rho=0.0) = 0.25000000000000805\n",
      "For comparison: 0.25\n",
      "Phi(1.0, 1.0; rho=0.0) = 0.7078609817380502\n",
      "For comparison: 0.7078609817371412\n",
      "Phi(1.5, 1.0; rho=0.0) = 0.7851368582813976\n",
      "For comparison: 0.7851368582814456\n",
      "Phi(0, 0.5; rho=0.5) = 0.41834023934572867\n",
      "For comparison: 0.41834023934546827\n"
     ]
    }
   ],
   "source": [
    "from scipy.integrate import quad\n",
    "\n",
    "class bivariate_normal:\n",
    "    def __init__(self, rho: float) -> None:\n",
    "        self.rho = rho\n",
    "    \n",
    "    @staticmethod\n",
    "    def integrand(u, v, rho):\n",
    "        return np.exp(-0.5 * (u**2 - 2*rho*u*v + v**2) / (1 - rho**2)) / (2 * np.pi * np.sqrt(1 - rho**2))\n",
    "    \n",
    "    @staticmethod\n",
    "    def conditional_cdf(v, upper_limit, rho):\n",
    "        return quad(lambda u: bivariate_normal.integrand(u, v, rho), -np.inf, upper_limit)[0]\n",
    "    \n",
    "    def cdf(self, x, y):\n",
    "        return quad(lambda v: bivariate_normal.conditional_cdf(v, x, self.rho), -np.inf, y)[0]\n",
    "\n",
    "# Independent Cases\n",
    "x_values = [0, 1.0, 1.5]\n",
    "y_values = [0, 1.0, 1.0]\n",
    "rho = 0.0\n",
    "for x, y in zip(x_values, y_values):\n",
    "    print(f\"Phi({x}, {y}; rho={rho}) = {bivariate_normal(rho).cdf(x, y)}\")\n",
    "    print(f\"For comparison: {scipy.stats.multivariate_normal.cdf([x, y], [0, 0], [[1, rho], [rho, 1]])}\")\n",
    "\n",
    "# Correlated Cases\n",
    "x_special = 0\n",
    "y_special = 0.5\n",
    "rho_special = 0.5\n",
    "print(f\"Phi({x_special}, {y_special}; rho={rho_special}) = {bivariate_normal(rho_special).cdf(x_special, y_special)}\")\n",
    "print(f\"For comparison: {scipy.stats.multivariate_normal.cdf([x_special, y_special], [0, 0], [[1, rho_special], [rho_special, 1]])}\")\n",
    "\n",
    "# (b)"
   ]
  },
  {
   "cell_type": "code",
   "execution_count": 8,
   "metadata": {},
   "outputs": [
    {
     "name": "stdout",
     "output_type": "stream",
     "text": [
      "Phi(0.5, 1.5, 2.5; mean=[0, 1, 2], cov=[[1, 0.4, 0.3], [0.4, 2, 0.5], [0.3, 0.5, 3]]) = 0.32776146256832683\n",
      "For comparison: 0.32775817956052306\n"
     ]
    }
   ],
   "source": [
    "from typing import Iterable\n",
    "from scipy.integrate import dblquad\n",
    "from copy import deepcopy\n",
    "\n",
    "class trivariate_normal(bivariate_normal):\n",
    "    def __init__(self, mean: Iterable[float], sigma: Iterable[Iterable[float]]) -> None:\n",
    "\n",
    "        for i in range(3):\n",
    "            for j in range(i, 3):\n",
    "                if i != j:\n",
    "                    assert sigma[i][j] == sigma[j][i], \"Correlation matrix should be symmytric.\"\n",
    "\n",
    "        self.sigma = sigma\n",
    "        self.mean = mean\n",
    "\n",
    "        self.corr = deepcopy(self.sigma)\n",
    "        for i in range(len(self.corr)):\n",
    "            for j in range(len(self.corr[i])):\n",
    "                self.corr[i][j] /= math.sqrt(self.sigma[i][i] * self.sigma[j][j])\n",
    "\n",
    "    def trivariate_normal_cdf(self, x: float, y: float, z: float):\n",
    "        x = (x - mean[0]) / math.sqrt(self.sigma[0][0])\n",
    "        y = (y - mean[1]) / math.sqrt(self.sigma[1][1])\n",
    "        z = (z - mean[2]) / math.sqrt(self.sigma[2][2])\n",
    "\n",
    "        multiplier = math.sqrt(self.sigma[0][0]) * math.sqrt(self.sigma[1][1]) * math.sqrt(self.sigma[2][2])\n",
    "        # X_i = rho_i * X_M + epsilon_i, epsilon_i ~ N(0, 1 - rho_i^2), X_M ~ N(0, 1)\n",
    "        if self.corr[1][2] > 0 and self.corr[0][1] > 0 and self.corr[0][2] > 0:\n",
    "            rho_0 = math.sqrt((self.corr[0][1] * self.corr[0][2]) / self.corr[1][2])\n",
    "            rho_1 = math.sqrt((self.corr[1][2] * self.corr[0][1]) / self.corr[0][2])\n",
    "            rho_2 = math.sqrt((self.corr[0][2] * self.corr[1][2]) / self.corr[0][1])\n",
    "            return quad(lambda v:\n",
    "                    hart_cdf((x - rho_0 *v)/math.sqrt(1 - rho_0**2))\n",
    "                    * hart_cdf((y - rho_1 *v)/math.sqrt(1 - rho_1**2))\n",
    "                    * hart_cdf((z - rho_2 *v)/math.sqrt(1 - rho_2**2))\n",
    "                    * math.exp(- v ** 2 / 2) / math.sqrt(2 * math.pi), -np.inf, np.inf)[0]\n",
    "        elif self.corr[1][2] == 0:\n",
    "            if self.corr[0][1] == 0:\n",
    "                return hart_cdf(y) * bivariate_normal(self.corr[0][2]).cdf(x, z)\n",
    "            elif self.corr[0][2] == 0:\n",
    "                return hart_cdf(z) * bivariate_normal(self.corr[0][1]).cdf(x, y)\n",
    "            else:\n",
    "                return dblquad(lambda Z, Y: hart_cdf((x - self.corr[0][1] * Y - self.corr[0][2] * Z) / (1 - self.corr[0][1] ** 2 - self.corr[0][2] ** 2)) * bivariate_normal.integrand(Z, Y, 0), -np.inf, z, -np.inf, y)[0]\n",
    "        elif self.corr[0][2] == 0:\n",
    "            if self.corr[0][1] == 0:\n",
    "                return hart_cdf(x) * bivariate_normal(self.corr[1][2]).cdf(y, z)\n",
    "            else:\n",
    "                return dblquad(lambda Z, X: hart_cdf((y - self.corr[0][1] * X - self.corr[1][2] * Z) / (1 - self.corr[0][1] ** 2 - self.corr[1][2] ** 2)) * bivariate_normal.integrand(Z, X, 0), -np.inf, z, -np.inf, x)[0]\n",
    "        else:\n",
    "            return dblquad(lambda X, Y: hart_cdf((z - self.corr[0][2] * X - self.corr[1][2] * Y) / (1 - self.corr[0][2] ** 2 - self.corr[1][2] ** 2)) * bivariate_normal.integrand(X, Y, 0), -np.inf, x, -np.inf, y)[0]\n",
    "\n",
    "x = 0.5\n",
    "y = 1.5\n",
    "z = 2.5\n",
    "mean = [0, 1, 2]\n",
    "cov = [[1, 0.4, 0.3], [0.4, 2, 0.5], [0.3, 0.5, 3]]\n",
    "\n",
    "\n",
    "print(f\"Phi({x}, {y}, {z}; mean={mean}, cov={cov}) = {trivariate_normal(mean, cov).trivariate_normal_cdf(x, y, z)}\")\n",
    "print(f\"For comparison: {scipy.stats.multivariate_normal.cdf([x, y, z], mean, cov)}\")\n",
    "\n",
    "# (c)"
   ]
  },
  {
   "cell_type": "markdown",
   "metadata": {},
   "source": [
    "# Question 6"
   ]
  },
  {
   "cell_type": "code",
   "execution_count": 9,
   "metadata": {},
   "outputs": [],
   "source": [
    "N = 125\n",
    "spread = 0.02\n",
    "R = 0.5\n",
    "holding = 8e6\n",
    "h = spread / (1 - R)\n",
    "\n",
    "rho = 0.20"
   ]
  },
  {
   "cell_type": "markdown",
   "metadata": {},
   "source": [
    "## Homogeneous Portfolio"
   ]
  },
  {
   "cell_type": "code",
   "execution_count": 10,
   "metadata": {},
   "outputs": [
    {
     "data": {
      "text/plain": [
       "19604899.262624133"
      ]
     },
     "execution_count": 10,
     "metadata": {},
     "output_type": "execute_result"
    }
   ],
   "source": [
    "from scipy.stats import norm\n",
    "\n",
    "def default_time_cdf(t):\n",
    "    return 1 - math.exp(- h * t)\n",
    "\n",
    "def default_time_cdf_cond(t, X_M):\n",
    "    return hart_cdf((norm.ppf(default_time_cdf(t)) - math.sqrt(rho) * X_M) / math.sqrt(1 - rho))\n",
    "\n",
    "def binomial(n, k, q):\n",
    "    return math.comb(n, k) * q**k * (1 - q)**(n - k)\n",
    "\n",
    "def default_prob(K, T):\n",
    "    return quad(lambda X_M: binomial(N, K, default_time_cdf_cond(T, X_M)) * math.exp(- X_M ** 2 / 2) / math.sqrt(2 * math.pi), -np.inf, np.inf)[0]\n",
    "\n",
    "def excess_loss_Homogeneous(t):\n",
    "    ans = 0\n",
    "    for K in range(N + 1):\n",
    "        ans += default_prob(K, t) * (1 - R) * holding * K\n",
    "    return ans\n",
    "\n",
    "excess_loss_Homogeneous(1)"
   ]
  },
  {
   "cell_type": "markdown",
   "metadata": {},
   "source": [
    "## Conditional Normal"
   ]
  },
  {
   "cell_type": "code",
   "execution_count": 85,
   "metadata": {},
   "outputs": [
    {
     "data": {
      "text/plain": [
       "19754894.59580812"
      ]
     },
     "execution_count": 85,
     "metadata": {},
     "output_type": "execute_result"
    }
   ],
   "source": [
    "def mean_v(t, X_M, B):\n",
    "    return N * B * default_time_cdf_cond(t, X_M)\n",
    "\n",
    "def sigma_v(t, X_M, B):\n",
    "    return math.sqrt(N * B ** 2 * default_time_cdf_cond(t, X_M) * (1 - default_time_cdf_cond(t, X_M))) + 1e-8\n",
    "\n",
    "def excess_loss_Cond_pdf(t, X_M, x, B):\n",
    "    x = x * B\n",
    "    M_v = mean_v(t, X_M, B)\n",
    "    s_v = sigma_v(t, X_M, B)\n",
    "\n",
    "    return (norm.cdf((x + B - M_v)/s_v) - norm.cdf((x - M_v)/s_v)) / (1 - norm.cdf(- M_v / s_v))\n",
    "\n",
    "def expected_loss_cond(t, X_M, K_L, K_U, B):\n",
    "    M_v = mean_v(t, X_M, B)\n",
    "    s_v = sigma_v(t, X_M, B)\n",
    "    \n",
    "    def _func(K):\n",
    "        if K < -1e9:\n",
    "            K = -1e9\n",
    "        if K > 1e9:\n",
    "            K = 1e9\n",
    "\n",
    "        if s_v < 1e-8:\n",
    "            if M_v > K:\n",
    "                return M_v - K\n",
    "            else:\n",
    "                return 0\n",
    "        return (M_v - K) * norm.cdf((M_v - K) / s_v) + s_v * norm.pdf((M_v - K) / s_v)\n",
    "    \n",
    "    return _func(K_L) - _func(K_U)\n",
    "\n",
    "def excess_loss_CondNorm(t, K_L = 0, K_U = 1, B = (1 - R) * holding):\n",
    "    return quad(lambda X_M: expected_loss_cond(t, X_M, N * K_L * B, N * K_U * B, B) * math.exp(- X_M ** 2 / 2) / math.sqrt(2 * math.pi), -np.inf, np.inf)[0]\n",
    "\n",
    "excess_loss_CondNorm(1)"
   ]
  },
  {
   "cell_type": "markdown",
   "metadata": {},
   "source": [
    "## Recursive Method"
   ]
  },
  {
   "cell_type": "code",
   "execution_count": 56,
   "metadata": {},
   "outputs": [
    {
     "data": {
      "text/plain": [
       "19605147.94167129"
      ]
     },
     "execution_count": 56,
     "metadata": {},
     "output_type": "execute_result"
    }
   ],
   "source": [
    "import numba\n",
    "@numba.njit()\n",
    "def excess_loss_pdf_recur(N, x, q):\n",
    "    recur_dict = np.zeros((N+2, N+2))\n",
    "    for k in range(N+1):\n",
    "        for j in range(min(k, x)+2):\n",
    "            if j == 0:\n",
    "                recur_dict[k, j] = (1 - q) ** k\n",
    "            else:\n",
    "                recur_dict[k, j] = q * recur_dict[k-1, j-1] + (1 - q) * recur_dict[k-1, j]\n",
    "    return recur_dict[N, :(x+1)].sum()\n",
    "    \n",
    "\n",
    "def excess_loss_Recursive_onx(t, x):\n",
    "    return quad(lambda F: excess_loss_pdf_recur(N, x, default_time_cdf_cond(t, F)) * math.exp(- F**2 / 2) / math.sqrt(2 * math.pi), -np.inf, np.inf)[0]\n",
    "\n",
    "def excess_loss_Recursive(t):\n",
    "    ans = 0\n",
    "    for i in range(N):\n",
    "        ans += (1 - excess_loss_Recursive_onx(t, i))\n",
    "    return ans * (1 - R) * holding\n",
    "\n",
    "excess_loss_Recursive(1) "
   ]
  },
  {
   "cell_type": "markdown",
   "metadata": {},
   "source": [
    "## Comparison"
   ]
  },
  {
   "cell_type": "code",
   "execution_count": 89,
   "metadata": {},
   "outputs": [
    {
     "data": {
      "image/png": "[encoded data removed]",
      "text/plain": [
       "<Figure size 800x600 with 1 Axes>"
      ]
     },
     "metadata": {},
     "output_type": "display_data"
    }
   ],
   "source": [
    "import matplotlib.pyplot as plt\n",
    "\n",
    "B = (1 - R) * holding\n",
    "\n",
    "x = list(range(126))\n",
    "y = [default_prob(xx, 10) for xx in x]\n",
    "z = [quad(lambda X_M: excess_loss_Cond_pdf(10, X_M, xx, B) * math.exp(- X_M ** 2 / 2) / math.sqrt(2 * math.pi), -np.inf, np.inf)[0] for xx in x]\n",
    "w = [excess_loss_Recursive_onx(10, xx) - excess_loss_Recursive_onx(10, xx - 1) * (xx > 0) for xx in x]\n",
    "\n",
    "plt.figure(figsize=(8, 6))\n",
    "plt.plot(x, y, label=\"Homogeneous\")\n",
    "plt.plot(x, z, label=\"Conditional Normalization\")\n",
    "plt.plot(x, w, label=\"Recursive\")\n",
    "plt.legend()\n",
    "plt.title(\"PDF\")\n",
    "plt.show()"
   ]
  },
  {
   "cell_type": "code",
   "execution_count": 90,
   "metadata": {},
   "outputs": [
    {
     "data": {
      "image/png": "[encoded data removed]",
      "text/plain": [
       "<Figure size 800x600 with 1 Axes>"
      ]
     },
     "metadata": {},
     "output_type": "display_data"
    }
   ],
   "source": [
    "plt.figure(figsize=(8, 6))\n",
    "plt.plot(x, np.cumsum(y)[::-1], label=\"Homogeneous\")\n",
    "plt.plot(x, np.cumsum(z)[::-1], label=\"Conditional Normalization\")\n",
    "plt.plot(x, np.cumsum(w)[::-1], label=\"Recursive\")\n",
    "plt.legend()\n",
    "plt.title(\"Survival\")\n",
    "plt.show()"
   ]
  },
  {
   "cell_type": "markdown",
   "metadata": {},
   "source": [
    "## Tranche"
   ]
  },
  {
   "cell_type": "code",
   "execution_count": 58,
   "metadata": {},
   "outputs": [
    {
     "data": {
      "text/plain": [
       "110344.06423607402"
      ]
     },
     "execution_count": 58,
     "metadata": {},
     "output_type": "execute_result"
    }
   ],
   "source": [
    "excess_loss_CondNorm(1, 0, 0.03)"
   ]
  },
  {
   "cell_type": "code",
   "execution_count": 86,
   "metadata": {},
   "outputs": [
    {
     "data": {
      "text/plain": [
       "1009579003.4142897"
      ]
     },
     "execution_count": 86,
     "metadata": {},
     "output_type": "execute_result"
    }
   ],
   "source": [
    "excess_loss_CondNorm(1, -np.inf, 0.03)"
   ]
  }
 ],
 "metadata": {
  "kernelspec": {
   "display_name": "Python 3",
   "language": "python",
   "name": "python3"
  },
  "language_info": {
   "codemirror_mode": {
    "name": "ipython",
    "version": 3
   },
   "file_extension": ".py",
   "mimetype": "text/x-python",
   "name": "python",
   "nbconvert_exporter": "python",
   "pygments_lexer": "ipython3",
   "version": "3.10.6"
  }
 },
 "nbformat": 4,
 "nbformat_minor": 2
}
